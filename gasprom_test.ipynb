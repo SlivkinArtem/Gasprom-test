{
  "nbformat": 4,
  "nbformat_minor": 0,
  "metadata": {
    "colab": {
      "provenance": [],
      "gpuType": "T4"
    },
    "kernelspec": {
      "name": "python3",
      "display_name": "Python 3"
    },
    "language_info": {
      "name": "python"
    },
    "accelerator": "GPU"
  },
  "cells": [
    {
      "cell_type": "code",
      "source": [
        "import pandas as pd\n",
        "import numpy as np\n",
        "import matplotlib.pyplot as plt\n",
        "import seaborn as sns\n",
        "import requests\n",
        "import io\n",
        "import nltk\n",
        "from nltk.corpus import stopwords\n",
        "from nltk.tokenize import word_tokenize\n",
        "import re\n",
        "from collections import Counter\n",
        "from sklearn.feature_extraction.text import CountVectorizer, TfidfVectorizer\n",
        "from sklearn.decomposition import LatentDirichletAllocation, NMF"
      ],
      "metadata": {
        "id": "0piU30yVxV5p"
      },
      "execution_count": 1,
      "outputs": []
    },
    {
      "cell_type": "code",
      "source": [
        "from sklearn.model_selection import train_test_split\n",
        "from transformers import AutoTokenizer, AutoModelForSequenceClassification\n",
        "from torch.utils.data import DataLoader, TensorDataset\n",
        "from sklearn.metrics import accuracy_score, precision_recall_fscore_support, classification_report\n",
        "import time"
      ],
      "metadata": {
        "id": "ipw8Bwf-HHJV"
      },
      "execution_count": 2,
      "outputs": []
    },
    {
      "cell_type": "code",
      "source": [
        "import torch"
      ],
      "metadata": {
        "id": "DZwUu2jOSgt1"
      },
      "execution_count": 3,
      "outputs": []
    },
    {
      "cell_type": "code",
      "execution_count": null,
      "metadata": {
        "id": "4g3h_OjUR78F"
      },
      "outputs": [],
      "source": [
        "!wget https://huggingface.co/datasets/MonoHime/ru_sentiment_dataset/resolve/main/train.csv\n",
        "!wget https://huggingface.co/datasets/MonoHime/ru_sentiment_dataset/resolve/main/datasets.csv\n",
        "!wget https://huggingface.co/datasets/MonoHime/ru_sentiment_dataset/resolve/main/valid.csv"
      ]
    },
    {
      "cell_type": "code",
      "source": [
        "ds = pd.read_csv(\"datasets.csv\")\n",
        "ds.head(3)"
      ],
      "metadata": {
        "colab": {
          "base_uri": "https://localhost:8080/",
          "height": 143
        },
        "id": "9fvzJFhuyc16",
        "outputId": "22e9991d-f9e6-4d9e-af6d-133183b2b2e7"
      },
      "execution_count": null,
      "outputs": [
        {
          "output_type": "execute_result",
          "data": {
            "text/plain": [
              "   Unnamed: 0                                               text  sentiment\n",
              "0       43956  Развода на деньги нет\\nНаблюдаюсь в Лайфклиник...          1\n",
              "1       17755  Отель выбрали потому что рядом со стадионом. О...          0\n",
              "2       20269  Вылечили\\nГноился с рождения глазик, в поликли...          1"
            ],
            "text/html": [
              "\n",
              "  <div id=\"df-6a232e9c-4138-4650-9ea5-a01f23cf630a\" class=\"colab-df-container\">\n",
              "    <div>\n",
              "<style scoped>\n",
              "    .dataframe tbody tr th:only-of-type {\n",
              "        vertical-align: middle;\n",
              "    }\n",
              "\n",
              "    .dataframe tbody tr th {\n",
              "        vertical-align: top;\n",
              "    }\n",
              "\n",
              "    .dataframe thead th {\n",
              "        text-align: right;\n",
              "    }\n",
              "</style>\n",
              "<table border=\"1\" class=\"dataframe\">\n",
              "  <thead>\n",
              "    <tr style=\"text-align: right;\">\n",
              "      <th></th>\n",
              "      <th>Unnamed: 0</th>\n",
              "      <th>text</th>\n",
              "      <th>sentiment</th>\n",
              "    </tr>\n",
              "  </thead>\n",
              "  <tbody>\n",
              "    <tr>\n",
              "      <th>0</th>\n",
              "      <td>43956</td>\n",
              "      <td>Развода на деньги нет\\nНаблюдаюсь в Лайфклиник...</td>\n",
              "      <td>1</td>\n",
              "    </tr>\n",
              "    <tr>\n",
              "      <th>1</th>\n",
              "      <td>17755</td>\n",
              "      <td>Отель выбрали потому что рядом со стадионом. О...</td>\n",
              "      <td>0</td>\n",
              "    </tr>\n",
              "    <tr>\n",
              "      <th>2</th>\n",
              "      <td>20269</td>\n",
              "      <td>Вылечили\\nГноился с рождения глазик, в поликли...</td>\n",
              "      <td>1</td>\n",
              "    </tr>\n",
              "  </tbody>\n",
              "</table>\n",
              "</div>\n",
              "    <div class=\"colab-df-buttons\">\n",
              "\n",
              "  <div class=\"colab-df-container\">\n",
              "    <button class=\"colab-df-convert\" onclick=\"convertToInteractive('df-6a232e9c-4138-4650-9ea5-a01f23cf630a')\"\n",
              "            title=\"Convert this dataframe to an interactive table.\"\n",
              "            style=\"display:none;\">\n",
              "\n",
              "  <svg xmlns=\"http://www.w3.org/2000/svg\" height=\"24px\" viewBox=\"0 -960 960 960\">\n",
              "    <path d=\"M120-120v-720h720v720H120Zm60-500h600v-160H180v160Zm220 220h160v-160H400v160Zm0 220h160v-160H400v160ZM180-400h160v-160H180v160Zm440 0h160v-160H620v160ZM180-180h160v-160H180v160Zm440 0h160v-160H620v160Z\"/>\n",
              "  </svg>\n",
              "    </button>\n",
              "\n",
              "  <style>\n",
              "    .colab-df-container {\n",
              "      display:flex;\n",
              "      gap: 12px;\n",
              "    }\n",
              "\n",
              "    .colab-df-convert {\n",
              "      background-color: #E8F0FE;\n",
              "      border: none;\n",
              "      border-radius: 50%;\n",
              "      cursor: pointer;\n",
              "      display: none;\n",
              "      fill: #1967D2;\n",
              "      height: 32px;\n",
              "      padding: 0 0 0 0;\n",
              "      width: 32px;\n",
              "    }\n",
              "\n",
              "    .colab-df-convert:hover {\n",
              "      background-color: #E2EBFA;\n",
              "      box-shadow: 0px 1px 2px rgba(60, 64, 67, 0.3), 0px 1px 3px 1px rgba(60, 64, 67, 0.15);\n",
              "      fill: #174EA6;\n",
              "    }\n",
              "\n",
              "    .colab-df-buttons div {\n",
              "      margin-bottom: 4px;\n",
              "    }\n",
              "\n",
              "    [theme=dark] .colab-df-convert {\n",
              "      background-color: #3B4455;\n",
              "      fill: #D2E3FC;\n",
              "    }\n",
              "\n",
              "    [theme=dark] .colab-df-convert:hover {\n",
              "      background-color: #434B5C;\n",
              "      box-shadow: 0px 1px 3px 1px rgba(0, 0, 0, 0.15);\n",
              "      filter: drop-shadow(0px 1px 2px rgba(0, 0, 0, 0.3));\n",
              "      fill: #FFFFFF;\n",
              "    }\n",
              "  </style>\n",
              "\n",
              "    <script>\n",
              "      const buttonEl =\n",
              "        document.querySelector('#df-6a232e9c-4138-4650-9ea5-a01f23cf630a button.colab-df-convert');\n",
              "      buttonEl.style.display =\n",
              "        google.colab.kernel.accessAllowed ? 'block' : 'none';\n",
              "\n",
              "      async function convertToInteractive(key) {\n",
              "        const element = document.querySelector('#df-6a232e9c-4138-4650-9ea5-a01f23cf630a');\n",
              "        const dataTable =\n",
              "          await google.colab.kernel.invokeFunction('convertToInteractive',\n",
              "                                                    [key], {});\n",
              "        if (!dataTable) return;\n",
              "\n",
              "        const docLinkHtml = 'Like what you see? Visit the ' +\n",
              "          '<a target=\"_blank\" href=https://colab.research.google.com/notebooks/data_table.ipynb>data table notebook</a>'\n",
              "          + ' to learn more about interactive tables.';\n",
              "        element.innerHTML = '';\n",
              "        dataTable['output_type'] = 'display_data';\n",
              "        await google.colab.output.renderOutput(dataTable, element);\n",
              "        const docLink = document.createElement('div');\n",
              "        docLink.innerHTML = docLinkHtml;\n",
              "        element.appendChild(docLink);\n",
              "      }\n",
              "    </script>\n",
              "  </div>\n",
              "\n",
              "\n",
              "<div id=\"df-6219791f-fbc5-4bd6-b700-a4282bd19872\">\n",
              "  <button class=\"colab-df-quickchart\" onclick=\"quickchart('df-6219791f-fbc5-4bd6-b700-a4282bd19872')\"\n",
              "            title=\"Suggest charts\"\n",
              "            style=\"display:none;\">\n",
              "\n",
              "<svg xmlns=\"http://www.w3.org/2000/svg\" height=\"24px\"viewBox=\"0 0 24 24\"\n",
              "     width=\"24px\">\n",
              "    <g>\n",
              "        <path d=\"M19 3H5c-1.1 0-2 .9-2 2v14c0 1.1.9 2 2 2h14c1.1 0 2-.9 2-2V5c0-1.1-.9-2-2-2zM9 17H7v-7h2v7zm4 0h-2V7h2v10zm4 0h-2v-4h2v4z\"/>\n",
              "    </g>\n",
              "</svg>\n",
              "  </button>\n",
              "\n",
              "<style>\n",
              "  .colab-df-quickchart {\n",
              "      --bg-color: #E8F0FE;\n",
              "      --fill-color: #1967D2;\n",
              "      --hover-bg-color: #E2EBFA;\n",
              "      --hover-fill-color: #174EA6;\n",
              "      --disabled-fill-color: #AAA;\n",
              "      --disabled-bg-color: #DDD;\n",
              "  }\n",
              "\n",
              "  [theme=dark] .colab-df-quickchart {\n",
              "      --bg-color: #3B4455;\n",
              "      --fill-color: #D2E3FC;\n",
              "      --hover-bg-color: #434B5C;\n",
              "      --hover-fill-color: #FFFFFF;\n",
              "      --disabled-bg-color: #3B4455;\n",
              "      --disabled-fill-color: #666;\n",
              "  }\n",
              "\n",
              "  .colab-df-quickchart {\n",
              "    background-color: var(--bg-color);\n",
              "    border: none;\n",
              "    border-radius: 50%;\n",
              "    cursor: pointer;\n",
              "    display: none;\n",
              "    fill: var(--fill-color);\n",
              "    height: 32px;\n",
              "    padding: 0;\n",
              "    width: 32px;\n",
              "  }\n",
              "\n",
              "  .colab-df-quickchart:hover {\n",
              "    background-color: var(--hover-bg-color);\n",
              "    box-shadow: 0 1px 2px rgba(60, 64, 67, 0.3), 0 1px 3px 1px rgba(60, 64, 67, 0.15);\n",
              "    fill: var(--button-hover-fill-color);\n",
              "  }\n",
              "\n",
              "  .colab-df-quickchart-complete:disabled,\n",
              "  .colab-df-quickchart-complete:disabled:hover {\n",
              "    background-color: var(--disabled-bg-color);\n",
              "    fill: var(--disabled-fill-color);\n",
              "    box-shadow: none;\n",
              "  }\n",
              "\n",
              "  .colab-df-spinner {\n",
              "    border: 2px solid var(--fill-color);\n",
              "    border-color: transparent;\n",
              "    border-bottom-color: var(--fill-color);\n",
              "    animation:\n",
              "      spin 1s steps(1) infinite;\n",
              "  }\n",
              "\n",
              "  @keyframes spin {\n",
              "    0% {\n",
              "      border-color: transparent;\n",
              "      border-bottom-color: var(--fill-color);\n",
              "      border-left-color: var(--fill-color);\n",
              "    }\n",
              "    20% {\n",
              "      border-color: transparent;\n",
              "      border-left-color: var(--fill-color);\n",
              "      border-top-color: var(--fill-color);\n",
              "    }\n",
              "    30% {\n",
              "      border-color: transparent;\n",
              "      border-left-color: var(--fill-color);\n",
              "      border-top-color: var(--fill-color);\n",
              "      border-right-color: var(--fill-color);\n",
              "    }\n",
              "    40% {\n",
              "      border-color: transparent;\n",
              "      border-right-color: var(--fill-color);\n",
              "      border-top-color: var(--fill-color);\n",
              "    }\n",
              "    60% {\n",
              "      border-color: transparent;\n",
              "      border-right-color: var(--fill-color);\n",
              "    }\n",
              "    80% {\n",
              "      border-color: transparent;\n",
              "      border-right-color: var(--fill-color);\n",
              "      border-bottom-color: var(--fill-color);\n",
              "    }\n",
              "    90% {\n",
              "      border-color: transparent;\n",
              "      border-bottom-color: var(--fill-color);\n",
              "    }\n",
              "  }\n",
              "</style>\n",
              "\n",
              "  <script>\n",
              "    async function quickchart(key) {\n",
              "      const quickchartButtonEl =\n",
              "        document.querySelector('#' + key + ' button');\n",
              "      quickchartButtonEl.disabled = true;  // To prevent multiple clicks.\n",
              "      quickchartButtonEl.classList.add('colab-df-spinner');\n",
              "      try {\n",
              "        const charts = await google.colab.kernel.invokeFunction(\n",
              "            'suggestCharts', [key], {});\n",
              "      } catch (error) {\n",
              "        console.error('Error during call to suggestCharts:', error);\n",
              "      }\n",
              "      quickchartButtonEl.classList.remove('colab-df-spinner');\n",
              "      quickchartButtonEl.classList.add('colab-df-quickchart-complete');\n",
              "    }\n",
              "    (() => {\n",
              "      let quickchartButtonEl =\n",
              "        document.querySelector('#df-6219791f-fbc5-4bd6-b700-a4282bd19872 button');\n",
              "      quickchartButtonEl.style.display =\n",
              "        google.colab.kernel.accessAllowed ? 'block' : 'none';\n",
              "    })();\n",
              "  </script>\n",
              "</div>\n",
              "    </div>\n",
              "  </div>\n"
            ],
            "application/vnd.google.colaboratory.intrinsic+json": {
              "type": "dataframe",
              "variable_name": "ds"
            }
          },
          "metadata": {},
          "execution_count": 5
        }
      ]
    },
    {
      "cell_type": "code",
      "source": [
        "df = pd.read_csv(\"train.csv\")\n",
        "df.head(3)"
      ],
      "metadata": {
        "colab": {
          "base_uri": "https://localhost:8080/",
          "height": 143
        },
        "id": "Rm8B_1I-xf50",
        "outputId": "fdb0340f-9bc3-4175-cada-fdccdb015286"
      },
      "execution_count": 5,
      "outputs": [
        {
          "output_type": "execute_result",
          "data": {
            "text/plain": [
              "   Unnamed: 0                                               text  sentiment\n",
              "0       21098  .с.,и спросил его:  о Посланник Аллаха!Ты пори...          1\n",
              "1       21099  Роднее всех родных Попала я в ГКБ №8 еще в дек...          1\n",
              "2       21100  Непорядочное отношение к своим работникам Рабо...          2"
            ],
            "text/html": [
              "\n",
              "  <div id=\"df-b99f09e7-3962-41b6-b3da-c4983dd310e1\" class=\"colab-df-container\">\n",
              "    <div>\n",
              "<style scoped>\n",
              "    .dataframe tbody tr th:only-of-type {\n",
              "        vertical-align: middle;\n",
              "    }\n",
              "\n",
              "    .dataframe tbody tr th {\n",
              "        vertical-align: top;\n",
              "    }\n",
              "\n",
              "    .dataframe thead th {\n",
              "        text-align: right;\n",
              "    }\n",
              "</style>\n",
              "<table border=\"1\" class=\"dataframe\">\n",
              "  <thead>\n",
              "    <tr style=\"text-align: right;\">\n",
              "      <th></th>\n",
              "      <th>Unnamed: 0</th>\n",
              "      <th>text</th>\n",
              "      <th>sentiment</th>\n",
              "    </tr>\n",
              "  </thead>\n",
              "  <tbody>\n",
              "    <tr>\n",
              "      <th>0</th>\n",
              "      <td>21098</td>\n",
              "      <td>.с.,и спросил его:  о Посланник Аллаха!Ты пори...</td>\n",
              "      <td>1</td>\n",
              "    </tr>\n",
              "    <tr>\n",
              "      <th>1</th>\n",
              "      <td>21099</td>\n",
              "      <td>Роднее всех родных Попала я в ГКБ №8 еще в дек...</td>\n",
              "      <td>1</td>\n",
              "    </tr>\n",
              "    <tr>\n",
              "      <th>2</th>\n",
              "      <td>21100</td>\n",
              "      <td>Непорядочное отношение к своим работникам Рабо...</td>\n",
              "      <td>2</td>\n",
              "    </tr>\n",
              "  </tbody>\n",
              "</table>\n",
              "</div>\n",
              "    <div class=\"colab-df-buttons\">\n",
              "\n",
              "  <div class=\"colab-df-container\">\n",
              "    <button class=\"colab-df-convert\" onclick=\"convertToInteractive('df-b99f09e7-3962-41b6-b3da-c4983dd310e1')\"\n",
              "            title=\"Convert this dataframe to an interactive table.\"\n",
              "            style=\"display:none;\">\n",
              "\n",
              "  <svg xmlns=\"http://www.w3.org/2000/svg\" height=\"24px\" viewBox=\"0 -960 960 960\">\n",
              "    <path d=\"M120-120v-720h720v720H120Zm60-500h600v-160H180v160Zm220 220h160v-160H400v160Zm0 220h160v-160H400v160ZM180-400h160v-160H180v160Zm440 0h160v-160H620v160ZM180-180h160v-160H180v160Zm440 0h160v-160H620v160Z\"/>\n",
              "  </svg>\n",
              "    </button>\n",
              "\n",
              "  <style>\n",
              "    .colab-df-container {\n",
              "      display:flex;\n",
              "      gap: 12px;\n",
              "    }\n",
              "\n",
              "    .colab-df-convert {\n",
              "      background-color: #E8F0FE;\n",
              "      border: none;\n",
              "      border-radius: 50%;\n",
              "      cursor: pointer;\n",
              "      display: none;\n",
              "      fill: #1967D2;\n",
              "      height: 32px;\n",
              "      padding: 0 0 0 0;\n",
              "      width: 32px;\n",
              "    }\n",
              "\n",
              "    .colab-df-convert:hover {\n",
              "      background-color: #E2EBFA;\n",
              "      box-shadow: 0px 1px 2px rgba(60, 64, 67, 0.3), 0px 1px 3px 1px rgba(60, 64, 67, 0.15);\n",
              "      fill: #174EA6;\n",
              "    }\n",
              "\n",
              "    .colab-df-buttons div {\n",
              "      margin-bottom: 4px;\n",
              "    }\n",
              "\n",
              "    [theme=dark] .colab-df-convert {\n",
              "      background-color: #3B4455;\n",
              "      fill: #D2E3FC;\n",
              "    }\n",
              "\n",
              "    [theme=dark] .colab-df-convert:hover {\n",
              "      background-color: #434B5C;\n",
              "      box-shadow: 0px 1px 3px 1px rgba(0, 0, 0, 0.15);\n",
              "      filter: drop-shadow(0px 1px 2px rgba(0, 0, 0, 0.3));\n",
              "      fill: #FFFFFF;\n",
              "    }\n",
              "  </style>\n",
              "\n",
              "    <script>\n",
              "      const buttonEl =\n",
              "        document.querySelector('#df-b99f09e7-3962-41b6-b3da-c4983dd310e1 button.colab-df-convert');\n",
              "      buttonEl.style.display =\n",
              "        google.colab.kernel.accessAllowed ? 'block' : 'none';\n",
              "\n",
              "      async function convertToInteractive(key) {\n",
              "        const element = document.querySelector('#df-b99f09e7-3962-41b6-b3da-c4983dd310e1');\n",
              "        const dataTable =\n",
              "          await google.colab.kernel.invokeFunction('convertToInteractive',\n",
              "                                                    [key], {});\n",
              "        if (!dataTable) return;\n",
              "\n",
              "        const docLinkHtml = 'Like what you see? Visit the ' +\n",
              "          '<a target=\"_blank\" href=https://colab.research.google.com/notebooks/data_table.ipynb>data table notebook</a>'\n",
              "          + ' to learn more about interactive tables.';\n",
              "        element.innerHTML = '';\n",
              "        dataTable['output_type'] = 'display_data';\n",
              "        await google.colab.output.renderOutput(dataTable, element);\n",
              "        const docLink = document.createElement('div');\n",
              "        docLink.innerHTML = docLinkHtml;\n",
              "        element.appendChild(docLink);\n",
              "      }\n",
              "    </script>\n",
              "  </div>\n",
              "\n",
              "\n",
              "<div id=\"df-81c65754-0c06-485c-9a56-edf09aee5180\">\n",
              "  <button class=\"colab-df-quickchart\" onclick=\"quickchart('df-81c65754-0c06-485c-9a56-edf09aee5180')\"\n",
              "            title=\"Suggest charts\"\n",
              "            style=\"display:none;\">\n",
              "\n",
              "<svg xmlns=\"http://www.w3.org/2000/svg\" height=\"24px\"viewBox=\"0 0 24 24\"\n",
              "     width=\"24px\">\n",
              "    <g>\n",
              "        <path d=\"M19 3H5c-1.1 0-2 .9-2 2v14c0 1.1.9 2 2 2h14c1.1 0 2-.9 2-2V5c0-1.1-.9-2-2-2zM9 17H7v-7h2v7zm4 0h-2V7h2v10zm4 0h-2v-4h2v4z\"/>\n",
              "    </g>\n",
              "</svg>\n",
              "  </button>\n",
              "\n",
              "<style>\n",
              "  .colab-df-quickchart {\n",
              "      --bg-color: #E8F0FE;\n",
              "      --fill-color: #1967D2;\n",
              "      --hover-bg-color: #E2EBFA;\n",
              "      --hover-fill-color: #174EA6;\n",
              "      --disabled-fill-color: #AAA;\n",
              "      --disabled-bg-color: #DDD;\n",
              "  }\n",
              "\n",
              "  [theme=dark] .colab-df-quickchart {\n",
              "      --bg-color: #3B4455;\n",
              "      --fill-color: #D2E3FC;\n",
              "      --hover-bg-color: #434B5C;\n",
              "      --hover-fill-color: #FFFFFF;\n",
              "      --disabled-bg-color: #3B4455;\n",
              "      --disabled-fill-color: #666;\n",
              "  }\n",
              "\n",
              "  .colab-df-quickchart {\n",
              "    background-color: var(--bg-color);\n",
              "    border: none;\n",
              "    border-radius: 50%;\n",
              "    cursor: pointer;\n",
              "    display: none;\n",
              "    fill: var(--fill-color);\n",
              "    height: 32px;\n",
              "    padding: 0;\n",
              "    width: 32px;\n",
              "  }\n",
              "\n",
              "  .colab-df-quickchart:hover {\n",
              "    background-color: var(--hover-bg-color);\n",
              "    box-shadow: 0 1px 2px rgba(60, 64, 67, 0.3), 0 1px 3px 1px rgba(60, 64, 67, 0.15);\n",
              "    fill: var(--button-hover-fill-color);\n",
              "  }\n",
              "\n",
              "  .colab-df-quickchart-complete:disabled,\n",
              "  .colab-df-quickchart-complete:disabled:hover {\n",
              "    background-color: var(--disabled-bg-color);\n",
              "    fill: var(--disabled-fill-color);\n",
              "    box-shadow: none;\n",
              "  }\n",
              "\n",
              "  .colab-df-spinner {\n",
              "    border: 2px solid var(--fill-color);\n",
              "    border-color: transparent;\n",
              "    border-bottom-color: var(--fill-color);\n",
              "    animation:\n",
              "      spin 1s steps(1) infinite;\n",
              "  }\n",
              "\n",
              "  @keyframes spin {\n",
              "    0% {\n",
              "      border-color: transparent;\n",
              "      border-bottom-color: var(--fill-color);\n",
              "      border-left-color: var(--fill-color);\n",
              "    }\n",
              "    20% {\n",
              "      border-color: transparent;\n",
              "      border-left-color: var(--fill-color);\n",
              "      border-top-color: var(--fill-color);\n",
              "    }\n",
              "    30% {\n",
              "      border-color: transparent;\n",
              "      border-left-color: var(--fill-color);\n",
              "      border-top-color: var(--fill-color);\n",
              "      border-right-color: var(--fill-color);\n",
              "    }\n",
              "    40% {\n",
              "      border-color: transparent;\n",
              "      border-right-color: var(--fill-color);\n",
              "      border-top-color: var(--fill-color);\n",
              "    }\n",
              "    60% {\n",
              "      border-color: transparent;\n",
              "      border-right-color: var(--fill-color);\n",
              "    }\n",
              "    80% {\n",
              "      border-color: transparent;\n",
              "      border-right-color: var(--fill-color);\n",
              "      border-bottom-color: var(--fill-color);\n",
              "    }\n",
              "    90% {\n",
              "      border-color: transparent;\n",
              "      border-bottom-color: var(--fill-color);\n",
              "    }\n",
              "  }\n",
              "</style>\n",
              "\n",
              "  <script>\n",
              "    async function quickchart(key) {\n",
              "      const quickchartButtonEl =\n",
              "        document.querySelector('#' + key + ' button');\n",
              "      quickchartButtonEl.disabled = true;  // To prevent multiple clicks.\n",
              "      quickchartButtonEl.classList.add('colab-df-spinner');\n",
              "      try {\n",
              "        const charts = await google.colab.kernel.invokeFunction(\n",
              "            'suggestCharts', [key], {});\n",
              "      } catch (error) {\n",
              "        console.error('Error during call to suggestCharts:', error);\n",
              "      }\n",
              "      quickchartButtonEl.classList.remove('colab-df-spinner');\n",
              "      quickchartButtonEl.classList.add('colab-df-quickchart-complete');\n",
              "    }\n",
              "    (() => {\n",
              "      let quickchartButtonEl =\n",
              "        document.querySelector('#df-81c65754-0c06-485c-9a56-edf09aee5180 button');\n",
              "      quickchartButtonEl.style.display =\n",
              "        google.colab.kernel.accessAllowed ? 'block' : 'none';\n",
              "    })();\n",
              "  </script>\n",
              "</div>\n",
              "    </div>\n",
              "  </div>\n"
            ],
            "application/vnd.google.colaboratory.intrinsic+json": {
              "type": "dataframe",
              "variable_name": "df"
            }
          },
          "metadata": {},
          "execution_count": 5
        }
      ]
    },
    {
      "cell_type": "code",
      "source": [
        "df.shape"
      ],
      "metadata": {
        "colab": {
          "base_uri": "https://localhost:8080/"
        },
        "id": "QnpzNccyybBj",
        "outputId": "55a2b41c-f9e5-4387-8d25-677721904a86"
      },
      "execution_count": null,
      "outputs": [
        {
          "output_type": "execute_result",
          "data": {
            "text/plain": [
              "(189891, 3)"
            ]
          },
          "metadata": {},
          "execution_count": 5
        }
      ]
    },
    {
      "cell_type": "code",
      "source": [
        "df.dtypes"
      ],
      "metadata": {
        "colab": {
          "base_uri": "https://localhost:8080/",
          "height": 178
        },
        "id": "5xzJcJg0zsIF",
        "outputId": "e3002148-9ba6-49ab-aaf5-a1cb97a89fad"
      },
      "execution_count": null,
      "outputs": [
        {
          "output_type": "execute_result",
          "data": {
            "text/plain": [
              "Unnamed: 0     int64\n",
              "text          object\n",
              "sentiment      int64\n",
              "dtype: object"
            ],
            "text/html": [
              "<div>\n",
              "<style scoped>\n",
              "    .dataframe tbody tr th:only-of-type {\n",
              "        vertical-align: middle;\n",
              "    }\n",
              "\n",
              "    .dataframe tbody tr th {\n",
              "        vertical-align: top;\n",
              "    }\n",
              "\n",
              "    .dataframe thead th {\n",
              "        text-align: right;\n",
              "    }\n",
              "</style>\n",
              "<table border=\"1\" class=\"dataframe\">\n",
              "  <thead>\n",
              "    <tr style=\"text-align: right;\">\n",
              "      <th></th>\n",
              "      <th>0</th>\n",
              "    </tr>\n",
              "  </thead>\n",
              "  <tbody>\n",
              "    <tr>\n",
              "      <th>Unnamed: 0</th>\n",
              "      <td>int64</td>\n",
              "    </tr>\n",
              "    <tr>\n",
              "      <th>text</th>\n",
              "      <td>object</td>\n",
              "    </tr>\n",
              "    <tr>\n",
              "      <th>sentiment</th>\n",
              "      <td>int64</td>\n",
              "    </tr>\n",
              "  </tbody>\n",
              "</table>\n",
              "</div><br><label><b>dtype:</b> object</label>"
            ]
          },
          "metadata": {},
          "execution_count": 6
        }
      ]
    },
    {
      "cell_type": "code",
      "source": [
        "df.isnull().sum() # Проверим наличие пропущенных значений"
      ],
      "metadata": {
        "colab": {
          "base_uri": "https://localhost:8080/",
          "height": 178
        },
        "id": "yqXbT6HZztyV",
        "outputId": "c1dc9c3c-23f0-452d-d488-645826d35df4"
      },
      "execution_count": null,
      "outputs": [
        {
          "output_type": "execute_result",
          "data": {
            "text/plain": [
              "Unnamed: 0    0\n",
              "text          0\n",
              "sentiment     0\n",
              "dtype: int64"
            ],
            "text/html": [
              "<div>\n",
              "<style scoped>\n",
              "    .dataframe tbody tr th:only-of-type {\n",
              "        vertical-align: middle;\n",
              "    }\n",
              "\n",
              "    .dataframe tbody tr th {\n",
              "        vertical-align: top;\n",
              "    }\n",
              "\n",
              "    .dataframe thead th {\n",
              "        text-align: right;\n",
              "    }\n",
              "</style>\n",
              "<table border=\"1\" class=\"dataframe\">\n",
              "  <thead>\n",
              "    <tr style=\"text-align: right;\">\n",
              "      <th></th>\n",
              "      <th>0</th>\n",
              "    </tr>\n",
              "  </thead>\n",
              "  <tbody>\n",
              "    <tr>\n",
              "      <th>Unnamed: 0</th>\n",
              "      <td>0</td>\n",
              "    </tr>\n",
              "    <tr>\n",
              "      <th>text</th>\n",
              "      <td>0</td>\n",
              "    </tr>\n",
              "    <tr>\n",
              "      <th>sentiment</th>\n",
              "      <td>0</td>\n",
              "    </tr>\n",
              "  </tbody>\n",
              "</table>\n",
              "</div><br><label><b>dtype:</b> int64</label>"
            ]
          },
          "metadata": {},
          "execution_count": 7
        }
      ]
    },
    {
      "cell_type": "markdown",
      "source": [
        "Распределение меток сентимента:"
      ],
      "metadata": {
        "id": "DnPRgnIl0A7d"
      }
    },
    {
      "cell_type": "code",
      "source": [
        "sentiment_counts = df['sentiment'].value_counts()\n",
        "sentiment_counts"
      ],
      "metadata": {
        "colab": {
          "base_uri": "https://localhost:8080/",
          "height": 209
        },
        "id": "vVuEfyybz8U6",
        "outputId": "2e067676-fa3c-4aae-f179-a70a86183534"
      },
      "execution_count": null,
      "outputs": [
        {
          "output_type": "execute_result",
          "data": {
            "text/plain": [
              "sentiment\n",
              "1    90766\n",
              "2    49798\n",
              "0    49327\n",
              "Name: count, dtype: int64"
            ],
            "text/html": [
              "<div>\n",
              "<style scoped>\n",
              "    .dataframe tbody tr th:only-of-type {\n",
              "        vertical-align: middle;\n",
              "    }\n",
              "\n",
              "    .dataframe tbody tr th {\n",
              "        vertical-align: top;\n",
              "    }\n",
              "\n",
              "    .dataframe thead th {\n",
              "        text-align: right;\n",
              "    }\n",
              "</style>\n",
              "<table border=\"1\" class=\"dataframe\">\n",
              "  <thead>\n",
              "    <tr style=\"text-align: right;\">\n",
              "      <th></th>\n",
              "      <th>count</th>\n",
              "    </tr>\n",
              "    <tr>\n",
              "      <th>sentiment</th>\n",
              "      <th></th>\n",
              "    </tr>\n",
              "  </thead>\n",
              "  <tbody>\n",
              "    <tr>\n",
              "      <th>1</th>\n",
              "      <td>90766</td>\n",
              "    </tr>\n",
              "    <tr>\n",
              "      <th>2</th>\n",
              "      <td>49798</td>\n",
              "    </tr>\n",
              "    <tr>\n",
              "      <th>0</th>\n",
              "      <td>49327</td>\n",
              "    </tr>\n",
              "  </tbody>\n",
              "</table>\n",
              "</div><br><label><b>dtype:</b> int64</label>"
            ]
          },
          "metadata": {},
          "execution_count": 8
        }
      ]
    },
    {
      "cell_type": "markdown",
      "source": [
        "Статистика по длине текстов"
      ],
      "metadata": {
        "id": "wvm68pJm0s4Q"
      }
    },
    {
      "cell_type": "code",
      "source": [
        "df['text_length'] = df['text'].apply(len)\n",
        "df['text_length'].describe()"
      ],
      "metadata": {
        "colab": {
          "base_uri": "https://localhost:8080/",
          "height": 335
        },
        "id": "Pqjt-dUD0Q5p",
        "outputId": "b084e64a-12c2-4ada-fcdd-04a2647d513c"
      },
      "execution_count": null,
      "outputs": [
        {
          "output_type": "execute_result",
          "data": {
            "text/plain": [
              "count    189891.000000\n",
              "mean        800.320020\n",
              "std        1951.543585\n",
              "min           3.000000\n",
              "25%         278.000000\n",
              "50%         503.000000\n",
              "75%         909.000000\n",
              "max      381498.000000\n",
              "Name: text_length, dtype: float64"
            ],
            "text/html": [
              "<div>\n",
              "<style scoped>\n",
              "    .dataframe tbody tr th:only-of-type {\n",
              "        vertical-align: middle;\n",
              "    }\n",
              "\n",
              "    .dataframe tbody tr th {\n",
              "        vertical-align: top;\n",
              "    }\n",
              "\n",
              "    .dataframe thead th {\n",
              "        text-align: right;\n",
              "    }\n",
              "</style>\n",
              "<table border=\"1\" class=\"dataframe\">\n",
              "  <thead>\n",
              "    <tr style=\"text-align: right;\">\n",
              "      <th></th>\n",
              "      <th>text_length</th>\n",
              "    </tr>\n",
              "  </thead>\n",
              "  <tbody>\n",
              "    <tr>\n",
              "      <th>count</th>\n",
              "      <td>189891.000000</td>\n",
              "    </tr>\n",
              "    <tr>\n",
              "      <th>mean</th>\n",
              "      <td>800.320020</td>\n",
              "    </tr>\n",
              "    <tr>\n",
              "      <th>std</th>\n",
              "      <td>1951.543585</td>\n",
              "    </tr>\n",
              "    <tr>\n",
              "      <th>min</th>\n",
              "      <td>3.000000</td>\n",
              "    </tr>\n",
              "    <tr>\n",
              "      <th>25%</th>\n",
              "      <td>278.000000</td>\n",
              "    </tr>\n",
              "    <tr>\n",
              "      <th>50%</th>\n",
              "      <td>503.000000</td>\n",
              "    </tr>\n",
              "    <tr>\n",
              "      <th>75%</th>\n",
              "      <td>909.000000</td>\n",
              "    </tr>\n",
              "    <tr>\n",
              "      <th>max</th>\n",
              "      <td>381498.000000</td>\n",
              "    </tr>\n",
              "  </tbody>\n",
              "</table>\n",
              "</div><br><label><b>dtype:</b> float64</label>"
            ]
          },
          "metadata": {},
          "execution_count": 9
        }
      ]
    },
    {
      "cell_type": "markdown",
      "source": [
        "Длина текста по меткам сентимента"
      ],
      "metadata": {
        "id": "1E-h5x4k1jVx"
      }
    },
    {
      "cell_type": "code",
      "source": [
        "plt.figure(figsize=(12, 5))\n",
        "plt.subplot(1, 2, 1)\n",
        "sns.boxplot(x='sentiment', y='text_length', data=df)\n",
        "plt.xlabel('Сентимент')\n",
        "plt.ylabel('Длина текста')"
      ],
      "metadata": {
        "colab": {
          "base_uri": "https://localhost:8080/",
          "height": 487
        },
        "id": "SvbM0XA81axG",
        "outputId": "488c3050-0f22-42f5-91b3-4af789bdb274"
      },
      "execution_count": null,
      "outputs": [
        {
          "output_type": "execute_result",
          "data": {
            "text/plain": [
              "Text(0, 0.5, 'Длина текста')"
            ]
          },
          "metadata": {},
          "execution_count": 10
        },
        {
          "output_type": "display_data",
          "data": {
            "text/plain": [
              "<Figure size 1200x500 with 1 Axes>"
            ],
            "image/png": "[encoded data removed]"
          },
          "metadata": {}
        }
      ]
    },
    {
      "cell_type": "code",
      "source": [
        "nltk.download('stopwords')\n",
        "nltk.download('punkt')\n",
        "nltk.download('punkt_tab')"
      ],
      "metadata": {
        "colab": {
          "base_uri": "https://localhost:8080/"
        },
        "id": "h_Zv83hp1wa4",
        "outputId": "be53cf5b-370c-4ae7-ea10-122b3c8fba3f"
      },
      "execution_count": 6,
      "outputs": [
        {
          "output_type": "stream",
          "name": "stderr",
          "text": [
            "[nltk_data] Downloading package stopwords to /root/nltk_data...\n",
            "[nltk_data]   Unzipping corpora/stopwords.zip.\n",
            "[nltk_data] Downloading package punkt to /root/nltk_data...\n",
            "[nltk_data]   Unzipping tokenizers/punkt.zip.\n",
            "[nltk_data] Downloading package punkt_tab to /root/nltk_data...\n",
            "[nltk_data]   Unzipping tokenizers/punkt_tab.zip.\n"
          ]
        },
        {
          "output_type": "execute_result",
          "data": {
            "text/plain": [
              "True"
            ]
          },
          "metadata": {},
          "execution_count": 6
        }
      ]
    },
    {
      "cell_type": "code",
      "source": [
        "stop_words = set(stopwords.words('russian'))"
      ],
      "metadata": {
        "id": "6yohX4AS15gH"
      },
      "execution_count": 7,
      "outputs": []
    },
    {
      "cell_type": "markdown",
      "source": [
        "Предобработка текста"
      ],
      "metadata": {
        "id": "UKpDFbcI2auW"
      }
    },
    {
      "cell_type": "code",
      "source": [
        "def preprocess_text(text):\n",
        "  text = text.lower()\n",
        "  # Удаление специальных символов и цифр\n",
        "  text = re.sub(r'[^\\w\\s]', '', text)\n",
        "  text = re.sub(r'\\d+', '', text)\n",
        "  tokens = word_tokenize(text)\n",
        "  tokens = [token for token in tokens if token not in stop_words and len(token) > 2]\n",
        "  return ' '.join(tokens)"
      ],
      "metadata": {
        "id": "oq5O3Z9A2WjP"
      },
      "execution_count": 8,
      "outputs": []
    },
    {
      "cell_type": "code",
      "source": [
        "df['processed_text'] = df['text'].apply(preprocess_text)"
      ],
      "metadata": {
        "id": "Mdf2VGjw3R9b"
      },
      "execution_count": 9,
      "outputs": []
    },
    {
      "cell_type": "markdown",
      "source": [
        "Самые часто встречаемые слова"
      ],
      "metadata": {
        "id": "tpA012CkevTU"
      }
    },
    {
      "cell_type": "code",
      "source": [
        "all_words = ' '.join(df['processed_text']).split()\n",
        "word_counts = Counter(all_words)\n",
        "most_common_words = word_counts.most_common(10)"
      ],
      "metadata": {
        "id": "2LBwqH_Id_aD"
      },
      "execution_count": null,
      "outputs": []
    },
    {
      "cell_type": "code",
      "source": [
        "words, counts = zip(*most_common_words)\n",
        "plt.figure(figsize=(12, 6))\n",
        "sns.barplot(x=list(words), y=list(counts))\n",
        "plt.xlabel('Слово')\n",
        "plt.ylabel('Количество')\n",
        "plt.show()"
      ],
      "metadata": {
        "colab": {
          "base_uri": "https://localhost:8080/",
          "height": 542
        },
        "id": "3v6dJsZ6fDZw",
        "outputId": "95bdf9d9-7af8-4eb6-f60a-28b67f8fba00"
      },
      "execution_count": null,
      "outputs": [
        {
          "output_type": "display_data",
          "data": {
            "text/plain": [
              "<Figure size 1200x600 with 1 Axes>"
            ],
            "image/png": "[encoded data removed]"
          },
          "metadata": {}
        }
      ]
    },
    {
      "cell_type": "markdown",
      "source": [
        "Я решил попробовать LDA, NMF. Здесь немалый объем текстов, хотя сами тексты небольшие. Предполагаю, что NMF будет работать быстрее, чем LDA."
      ],
      "metadata": {
        "id": "o3M9PaYsgWPk"
      }
    },
    {
      "cell_type": "markdown",
      "source": [
        "Векторизация текстов с помощью TF-IDF"
      ],
      "metadata": {
        "id": "zuybfPsb65VJ"
      }
    },
    {
      "cell_type": "code",
      "source": [
        "vectorizer = TfidfVectorizer(max_df=0.95, min_df=2, max_features=1000)\n",
        "tfidf_matrix = vectorizer.fit_transform(df['processed_text'])\n",
        "feature_names = vectorizer.get_feature_names_out()"
      ],
      "metadata": {
        "id": "E20SI7bShTSt"
      },
      "execution_count": null,
      "outputs": []
    },
    {
      "cell_type": "code",
      "source": [
        "count_vectorizer = CountVectorizer(max_df=0.95, min_df=2, max_features=1000)\n",
        "count_matrix = count_vectorizer.fit_transform(df['processed_text'])\n",
        "count_feature_names = count_vectorizer.get_feature_names_out()\n",
        "\n",
        "# Определение оптимального количества тем с помощью метрик\n",
        "\n",
        "# 1. Для LDA: используем перплексию и метрику когерентности\n",
        "def compute_coherence_values(model, term_matrix, feature_names, texts, top_n=10):\n",
        "    \"\"\"\n",
        "    Вычисляет метрику когерентности C_v для заданной модели\n",
        "    \"\"\"\n",
        "    topic_words = []\n",
        "    for topic_idx, topic in enumerate(model.components_):\n",
        "        top_words_idx = topic.argsort()[:-top_n - 1:-1]\n",
        "        topic_terms = [feature_names[i] for i in top_words_idx]\n",
        "        topic_words.append(topic_terms)\n",
        "\n",
        "    # Вычисляем когерентность как среднее попарное сходство между топ-словами\n",
        "    coherence = 0\n",
        "    term_counts = term_matrix.sum(axis=0)\n",
        "    term_counts = np.asarray(term_counts)[0]\n",
        "\n",
        "    # Вычисляем среднюю когерентность по всем темам\n",
        "    total_coherence = 0\n",
        "    for topic in topic_words:\n",
        "        topic_coherence = 0\n",
        "        pairs = 0\n",
        "        for i in range(len(topic)):\n",
        "            for j in range(i+1, len(topic)):\n",
        "                # Используем простую метрику: PMI\n",
        "                word_i = topic[i]\n",
        "                word_j = topic[j]\n",
        "\n",
        "                idx_i = list(feature_names).index(word_i) if word_i in feature_names else -1\n",
        "                idx_j = list(feature_names).index(word_j) if word_j in feature_names else -1\n",
        "\n",
        "                if idx_i != -1 and idx_j != -1:\n",
        "                    # PMI как оценка когерентности\n",
        "                    count_i = term_counts[idx_i]\n",
        "                    count_j = term_counts[idx_j]\n",
        "\n",
        "                    # Находим документы с обоими словами\n",
        "                    docs_with_i = set(term_matrix[:, idx_i].nonzero()[0])\n",
        "                    docs_with_j = set(term_matrix[:, idx_j].nonzero()[0])\n",
        "                    docs_with_both = docs_with_i.intersection(docs_with_j)\n",
        "\n",
        "                    if len(docs_with_both) > 0:\n",
        "                        # PMI\n",
        "                        pmi = np.log((len(docs_with_both) * len(texts)) / (len(docs_with_i) * len(docs_with_j)))\n",
        "                        if not np.isnan(pmi) and not np.isinf(pmi):\n",
        "                            topic_coherence += pmi\n",
        "                            pairs += 1\n",
        "\n",
        "        if pairs > 0:\n",
        "            topic_coherence /= pairs\n",
        "            total_coherence += topic_coherence\n",
        "\n",
        "    if len(topic_words) > 0:\n",
        "        total_coherence /= len(topic_words)\n",
        "\n",
        "    return total_coherence\n",
        "\n",
        "# Диапазон количества тем для тестирования\n",
        "step = 10\n",
        "topics_range = range(1, 70, step)\n",
        "\n",
        "# Метрики для LDA\n",
        "lda_perplexity = []\n",
        "lda_coherence = []\n",
        "\n",
        "# Метрики для NMF: реконструкционная ошибка и когерентность\n",
        "nmf_errors = []\n",
        "nmf_coherence = []\n",
        "\n",
        "for n_topics in topics_range:\n",
        "    print(f\"Проверка модели с {n_topics} темами...\")\n",
        "\n",
        "    # LDA модель\n",
        "    lda = LatentDirichletAllocation(n_components=n_topics,\n",
        "                                    random_state=42,\n",
        "                                    max_iter=10)\n",
        "    lda.fit(tfidf_matrix)\n",
        "\n",
        "    # Вычисляем перплексию\n",
        "    perplexity = lda.perplexity(tfidf_matrix)\n",
        "    lda_perplexity.append(perplexity)\n",
        "\n",
        "    # Вычисляем когерентность для LDA\n",
        "    lda_c_v = compute_coherence_values(lda, count_matrix, count_feature_names, df['processed_text'])\n",
        "    lda_coherence.append(lda_c_v)\n",
        "\n",
        "    nmf = NMF(n_components=n_topics,\n",
        "          random_state=42,\n",
        "          max_iter=1000)\n",
        "    W = nmf.fit_transform(tfidf_matrix)\n",
        "    H = nmf.components_\n",
        "\n",
        "    # Правильный расчет реконструкционной ошибки\n",
        "    reconstructed = W @ H\n",
        "    error = np.linalg.norm(tfidf_matrix.toarray() - reconstructed, 'fro') / np.linalg.norm(tfidf_matrix.toarray(), 'fro')\n",
        "    nmf_errors.append(error)\n",
        "\n",
        "    # Вычисляем когерентность для NMF\n",
        "    nmf_c_v = compute_coherence_values(nmf, count_matrix, count_feature_names, df['processed_text'])\n",
        "    nmf_coherence.append(nmf_c_v)\n"
      ],
      "metadata": {
        "colab": {
          "base_uri": "https://localhost:8080/"
        },
        "id": "rbKaJ5wFHCu5",
        "outputId": "7966654d-a436-4c47-e7d3-7b6f82b7c333"
      },
      "execution_count": null,
      "outputs": [
        {
          "output_type": "stream",
          "name": "stdout",
          "text": [
            "Вычисление оптимального количества тем...\n",
            "Это может занять некоторое время...\n",
            "Проверка модели с 1 темами...\n",
            "Проверка модели с 11 темами...\n",
            "Проверка модели с 21 темами...\n",
            "Проверка модели с 31 темами...\n",
            "Проверка модели с 41 темами...\n",
            "Проверка модели с 51 темами...\n",
            "Проверка модели с 61 темами...\n"
          ]
        }
      ]
    },
    {
      "cell_type": "code",
      "source": [
        "# Визуализация результатов для выбора оптимального количества тем\n",
        "plt.figure(figsize=(20, 12))\n",
        "\n",
        "# График перплексии LDA\n",
        "plt.subplot(2, 2, 1)\n",
        "plt.plot(topics_range, lda_perplexity, marker='o')\n",
        "plt.xlabel('Количество тем')\n",
        "plt.ylabel('Перплексия')\n",
        "plt.title('Перплексия LDA по количеству тем')\n",
        "plt.grid(True)\n",
        "plt.show()\n",
        "\n",
        "# График когерентности LDA\n",
        "plt.subplot(2, 2, 2)\n",
        "plt.plot(topics_range, lda_coherence, marker='o')\n",
        "plt.xlabel('Количество тем')\n",
        "plt.ylabel('Когерентность')\n",
        "plt.title('Когерентность LDA по количеству тем')\n",
        "plt.grid(True)\n",
        "plt.show()\n",
        "\n",
        "# График реконструкционной ошибки NMF\n",
        "plt.subplot(2, 2, 3)\n",
        "plt.plot(topics_range, nmf_errors, marker='o')\n",
        "plt.xlabel('Количество тем')\n",
        "plt.ylabel('Реконструкционная ошибка')\n",
        "plt.title('Реконструкционная ошибка NMF по количеству тем')\n",
        "plt.grid(True)\n",
        "plt.show()\n",
        "\n",
        "# График когерентности NMF\n",
        "plt.subplot(2, 2, 4)\n",
        "plt.plot(topics_range, nmf_coherence, marker='o')\n",
        "plt.xlabel('Количество тем')\n",
        "plt.ylabel('Когерентность')\n",
        "plt.title('Когерентность NMF по количеству тем')\n",
        "plt.grid(True)\n",
        "plt.show()\n",
        "\n",
        "\n",
        "# Определение оптимального количества тем на основе метрик\n",
        "# Для LDA: баланс между перплексией и когерентностью\n",
        "# - Нормализуем метрики\n",
        "norm_perplexity = (lda_perplexity - np.min(lda_perplexity)) / (np.max(lda_perplexity) - np.min(lda_perplexity))\n",
        "norm_coherence = (lda_coherence - np.min(lda_coherence)) / (np.max(lda_coherence) - np.min(lda_coherence))\n",
        "\n",
        "lda_scores = 1 - norm_perplexity + norm_coherence"
      ],
      "metadata": {
        "colab": {
          "base_uri": "https://localhost:8080/",
          "height": 1000
        },
        "id": "pbmjmSCQxoqO",
        "outputId": "92ea1be4-b323-4060-8544-c675ceef80c0"
      },
      "execution_count": null,
      "outputs": [
        {
          "output_type": "display_data",
          "data": {
            "text/plain": [
              "<Figure size 2000x1200 with 1 Axes>"
            ],
            "image/png": "[encoded data removed]"
          },
          "metadata": {}
        },
        {
          "output_type": "display_data",
          "data": {
            "text/plain": [
              "<Figure size 640x480 with 1 Axes>"
            ],
            "image/png": "[encoded data removed]"
          },
          "metadata": {}
        },
        {
          "output_type": "display_data",
          "data": {
            "text/plain": [
              "<Figure size 640x480 with 1 Axes>"
            ],
            "image/png": "[encoded data removed]"
          },
          "metadata": {}
        },
        {
          "output_type": "display_data",
          "data": {
            "text/plain": [
              "<Figure size 640x480 with 1 Axes>"
            ],
            "image/png": "[encoded data removed]"
          },
          "metadata": {}
        }
      ]
    },
    {
      "cell_type": "markdown",
      "source": [
        "Судя по графикам когерентности для обоих моделей оптимальное количество тем примерно 11"
      ],
      "metadata": {
        "id": "Vmts1VSgDFVx"
      }
    },
    {
      "cell_type": "markdown",
      "source": [
        "Определение оптимального количества тем на основе метрик. <br>\n",
        "Для LDA нужен баланс между перплексией и когерентностью"
      ],
      "metadata": {
        "id": "vAC8y1k00YME"
      }
    },
    {
      "cell_type": "code",
      "source": [
        "norm_perplexity = (lda_perplexity - np.min(lda_perplexity)) / (np.max(lda_perplexity) - np.min(lda_perplexity)) # нормализация\n",
        "norm_coherence = (lda_coherence - np.min(lda_coherence)) / (np.max(lda_coherence) - np.min(lda_coherence))\n",
        "\n",
        "# Чем ниже перплексия и выше когерентность, тем лучше модель\n",
        "lda_scores = 1 - norm_perplexity + norm_coherence\n",
        "optimal_lda_topics = topics_range[np.argmax(lda_scores)]\n",
        "\n",
        "print(f\"\\nОптимальное количество тем для LDA: {optimal_lda_topics}\")"
      ],
      "metadata": {
        "colab": {
          "base_uri": "https://localhost:8080/"
        },
        "id": "lFMUvknF0Guy",
        "outputId": "ece5b9a4-b792-4a33-dbd7-768f6d91bcf2"
      },
      "execution_count": null,
      "outputs": [
        {
          "output_type": "stream",
          "name": "stdout",
          "text": [
            "\n",
            "Оптимальное количество тем для LDA: 11\n"
          ]
        }
      ]
    },
    {
      "cell_type": "markdown",
      "source": [
        "Для NMF нужен баланс между реконструкционной ошибкой и когерентностью"
      ],
      "metadata": {
        "id": "ntD-4TvA1Mz1"
      }
    },
    {
      "cell_type": "code",
      "source": [
        "norm_errors = (nmf_errors - np.min(nmf_errors)) / (np.max(nmf_errors) - np.min(nmf_errors))\n",
        "norm_nmf_coherence = (nmf_coherence - np.min(nmf_coherence)) / (np.max(nmf_coherence) - np.min(nmf_coherence))\n",
        "\n",
        "# Чем ниже ошибка и выше когерентность, тем лучше модель\n",
        "nmf_scores = 1 - norm_errors + norm_nmf_coherence\n",
        "optimal_nmf_topics = topics_range[np.argmax(nmf_scores)]\n",
        "print(f\"Оптимальное количество тем для NMF: {optimal_nmf_topics}\")"
      ],
      "metadata": {
        "colab": {
          "base_uri": "https://localhost:8080/"
        },
        "id": "il-gnddg1CbA",
        "outputId": "d09ab2d6-fc06-4cc5-fec1-25d9b41f41ac"
      },
      "execution_count": null,
      "outputs": [
        {
          "output_type": "stream",
          "name": "stdout",
          "text": [
            "Оптимальное количество тем для NMF: 61\n"
          ]
        }
      ]
    },
    {
      "cell_type": "markdown",
      "source": [
        "Теперь применяем модели с оптимальным количеством тем"
      ],
      "metadata": {
        "id": "FFjsrQpn1zQ8"
      }
    },
    {
      "cell_type": "code",
      "source": [
        "n_topics_lda = optimal_lda_topics\n",
        "n_topics_nmf = optimal_nmf_topics\n",
        "\n",
        "lda_model = LatentDirichletAllocation(n_components=n_topics_lda, random_state=42, max_iter=10)\n",
        "lda_matrix = lda_model.fit_transform(tfidf_matrix)\n",
        "\n",
        "nmf_model = NMF(n_components=n_topics_nmf, random_state=42, max_iter=1000)\n",
        "nmf_matrix = nmf_model.fit_transform(tfidf_matrix)"
      ],
      "metadata": {
        "id": "-ursrMkc1sih"
      },
      "execution_count": null,
      "outputs": []
    },
    {
      "cell_type": "markdown",
      "source": [
        "Топ слова для каждой темы"
      ],
      "metadata": {
        "id": "KXpvZ6-A17cK"
      }
    },
    {
      "cell_type": "code",
      "source": [
        "def print_top_words(model, feature_names, n_top_words=10):\n",
        "    topics = []\n",
        "    for topic_idx, topic in enumerate(model.components_):\n",
        "        top_words_idx = topic.argsort()[:-n_top_words - 1:-1]\n",
        "        top_words = [feature_names[i] for i in top_words_idx]\n",
        "        topics.append((topic_idx, top_words))\n",
        "        print(f\"Тема #{topic_idx + 1}: {', '.join(top_words)}\")\n",
        "    return topics"
      ],
      "metadata": {
        "id": "5zkj98hv19l0"
      },
      "execution_count": null,
      "outputs": []
    },
    {
      "cell_type": "code",
      "source": [
        "lda_topics = print_top_words(lda_model, feature_names)"
      ],
      "metadata": {
        "colab": {
          "base_uri": "https://localhost:8080/"
        },
        "id": "hqz-j9L52Evo",
        "outputId": "3a22f309-9e9f-4693-8df1-26dd15b40c3e"
      },
      "execution_count": null,
      "outputs": [
        {
          "output_type": "stream",
          "name": "stdout",
          "text": [
            "Тема #1: отель, очень, цены, номера, персонал, цена, расположение, отеле, качество, отеля\n",
            "Тема #2: отель, очень, номер, номера, отеля, отеле, номере, завтрак, рядом, персонал\n",
            "Тема #3: очень, спасибо, обслуживание, кухня, ресторан, вкусно, понравилось, место, ресторане, всем\n",
            "Тема #4: врач, узи, это, анализы, зуб, прием, врача, деньги, пришла, клинику\n",
            "Тема #5: машина, автомобиль, это, авто, очень, машину, года, машины, салон, лет\n",
            "Тема #6: это, просто, россии, вообще, всё, ещё, почему, люди, которые, людей\n",
            "Тема #7: это, врач, врачи, ребенка, отношение, врача, просто, больнице, больницу, отделение\n",
            "Тема #8: очень, спасибо, клинике, клиника, клинику, клиники, довольна, зубы, лечение, врачи\n",
            "Тема #9: спасибо, благодарность, хочу, огромное, выразить, отделения, отношение, очень, большое, поблагодарить\n",
            "Тема #10: года, тенге, году, казахстана, также, казахстан, области, млрд, алматы, банка\n",
            "Тема #11: очень, это, меню, ресторан, нам, принесли, интерьер, просто, заказ, салат\n"
          ]
        }
      ]
    },
    {
      "cell_type": "code",
      "source": [
        "nmf_topics = print_top_words(nmf_model, feature_names)"
      ],
      "metadata": {
        "colab": {
          "base_uri": "https://localhost:8080/"
        },
        "id": "QQKYj8a_2Gxe",
        "outputId": "ed0f34d2-9118-4c11-bd84-e14818c6df6e"
      },
      "execution_count": null,
      "outputs": [
        {
          "output_type": "stream",
          "name": "stdout",
          "text": [
            "Тема #1: меню, вкусно, ресторане, ресторана, интерьер, блюда, салат, блюд, официанты, зал\n",
            "Тема #2: это, плюс, единственный, заведение, значит, минус, важно, скорее, самый, правда\n",
            "Тема #3: спасибо, огромное, отдельное, персоналу, всему, врачам, благодаря, профессионализм, помощь, ваш\n",
            "Тема #4: очень, понравился, удобно, приятно, довольны, нравится, понравилась, вкусно, красиво, часто\n",
            "Тема #5: врач, бога, замечательный, внимательный, сказала, сказал, медсестра, работает, лучший, приеме\n",
            "Тема #6: тенге, также, году, казахстана, млрд, казахстан, области, развития, банка, енпф\n",
            "Тема #7: довольна, осталась, рожала, буду, роды, роддоме, делала, роддом, родов, общем\n",
            "Тема #8: благодарность, выразить, огромную, отделения, врачу, сотрудникам, профессионализм, всему, огромная, здоровья\n",
            "Тема #9: отель, расположен, находится, завтраки, понравился, уютный, чистый, новый, недалеко, небольшой\n",
            "Тема #10: просто, ужас, замечательно, невозможно, слов, такое, какие, туда, такого, повезло\n",
            "Тема #11: всё, равно, уровне, отлично, необходимое, таки, нравится, прошло, понятно, правильно\n",
            "Тема #12: персонал, приветливый, вежливый, отзывчивый, внимательный, доброжелательный, приятный, чисто, весь, уютный\n",
            "Тема #13: метро, станции, минутах, недалеко, центра, ходьбы, удобно, близко, расположен, пешком\n",
            "Тема #14: номер, чистый, этаже, большой, видом, просторный, кровать, окна, уютный, маленький\n",
            "Тема #15: всем, советую, сотрудникам, здоровья, довольны, своим, врачам, остались, отделения, буду\n",
            "Тема #16: отеля, пляж, территории, море, бассейн, вид, минутах, находится, такси, видом\n",
            "Тема #17: отношение, пациентам, внимательное, профессионализм, персонала, хорошее, такое, людям, детям, своим\n",
            "Тема #18: завтрак, вкусный, шведский, стол, кофе, выбор, стоимость, чисто, достаточно, неплохой\n",
            "Тема #19: машина, автомобиль, авто, машину, машины, салон, машине, достаточно, большой, проблем\n",
            "Тема #20: хочу, поблагодарить, сотрудников, выразить, отметить, врача, особенно, профессионализм, работу, доктора\n",
            "Тема #21: день, каждый, рождения, следующий, добрый, полотенца, дня, уборка, первый, второй\n",
            "Тема #22: нам, наш, сказали, наши, решили, приехали, принесли, нашей, повезло, дали\n",
            "Тема #23: номера, чистые, уютные, просторные, завтраки, хорошие, большие, вид, маленькие, удобные\n",
            "Тема #24: обслуживание, кухня, хорошее, уровне, вкусная, еда, интерьер, атмосфера, отличное, отличная\n",
            "Тема #25: место, отличное, туда, приятное, отдыха, хорошее, прекрасное, друзьями, советую, еда\n",
            "Тема #26: которые, люди, почему, именно, россии, людей, будут, такие, дело, такое\n",
            "Тема #27: доктор, доктору, доктора, внимательный, замечательный, операции, приеме, специалист, руки, добрый\n",
            "Тема #28: хороший, сервис, специалист, бассейн, выбор, центр, вариант, хорошее, чистый, хорошие\n",
            "Тема #29: время, времени, свое, наше, работы, провести, провели, приема, часов, часа\n",
            "Тема #30: вообще, туда, понимаю, постоянно, ужас, такое, нормально, общем, такого, равно\n",
            "Тема #31: понравилось, особенно, еда, обязательно, единственное, общем, вкусная, целом, обстановка, отмечали\n",
            "Тема #32: рядом, кафе, отелем, ресторанов, находится, удобно, центр, расположен, рынок, месторасположение\n",
            "Тема #33: цены, качества, качество, рублей, вполне, выше, руб, ниже, других, цена\n",
            "Тема #34: номере, кофе, чисто, чайник, кровать, ванной, этаже, wifi, полотенца, телевизор\n",
            "Тема #35: расположение, удобное, отличное, хорошее, завтраки, доступности, цена, вкусные, качество, шаговой\n",
            "Тема #36: отеле, останавливались, данном, завтраки, дня, отдыхали, бассейн, дней, ночи, ночь\n",
            "Тема #37: деньги, денег, рублей, свои, руб, такие, туда, стоит, платить, услуги\n",
            "Тема #38: врача, узи, прием, врачу, анализы, пришла, сказала, очереди, сказали, беременности\n",
            "Тема #39: лет, назад, несколько, пару, год, жизни, пор, пять, последние, сих\n",
            "Тема #40: большое, спасибо, помощь, работу, профессионализм, врачу, персоналу, внимание, количество, доктору\n",
            "Тема #41: ещё, туда, обязательно, значит, сайте, мои, дают, рождения, глаза, мало\n",
            "Тема #42: зуб, зубы, зуба, лечить, зубов, боли, сделали, клинику, итоге, пришлось\n",
            "Тема #43: отличный, сервис, вид, центр, бассейн, отличная, специалист, вариант, отлично, выбор\n",
            "Тема #44: врачи, отделение, отделении, больнице, отделения, больницы, хорошие, больницу, больница, врачам\n",
            "Тема #45: ресторан, кухня, ресторана, ваш, уютный, прекрасный, кухни, лучший, самый, этаже\n",
            "Тема #46: года, год, назад, января, декабря, году, автомобилей, месяцев, нового, тыс\n",
            "Тема #47: центре, города, самом, москвы, находится, деле, центр, доступности, расположен, шаговой\n",
            "Тема #48: сказать, могу, хочется, хочу, поэтому, слова, знаю, точно, хорошего, одно\n",
            "Тема #49: клинике, клиника, клиники, клинику, хорошая, зубы, лечения, отличная, зубов, специалисты\n",
            "Тема #50: минут, пешком, идти, центра, площади, около, пляжа, пять, часа, принесли\n",
            "Тема #51: нужно, делать, сделать, идти, необходимо, платить, ехать, чтото, пройти, поэтому\n",
            "Тема #52: лечение, лечения, диагноз, боли, курс, сразу, обратилась, результат, зубов, клинику\n",
            "Тема #53: врачей, таких, побольше, специалистов, людей, поликлиники, поликлинике, других, мало, поликлинику\n",
            "Тема #54: быстро, сделали, достаточно, сразу, довольно, прошло, анализы, принесли, заказ, проблем\n",
            "Тема #55: записи, запись, вашу, сослался, контексте, пользователь, россии, очереди, работу, прием\n",
            "Тема #56: рекомендую, отличная, прекрасный, общем, всем, качество, отдыха, атмосфера, отлично, хочет\n",
            "Тема #57: хотя, туда, немного, вполне, довольно, наверное, целом, пришлось, правда, вроде\n",
            "Тема #58: ребенка, детей, ребенок, ребенку, ребенком, дети, роды, детям, рожала, моего\n",
            "Тема #59: самое, главное, оно, результат, впечатление, приятное, необходимое, самые, важно, москве\n",
            "Тема #60: человек, специалист, человека, замечательный, своего, прекрасный, добрый, зал, дела, отзывчивый\n",
            "Тема #61: супер, музыка, кухня, обязательно, советую, еда, обстановка, отличная, особенно, туда\n"
          ]
        }
      ]
    },
    {
      "cell_type": "markdown",
      "source": [
        "До этого я запускал LDA до 15 тем и оно стремилось к 11."
      ],
      "metadata": {
        "id": "HKCGMBNn8Fci"
      }
    },
    {
      "cell_type": "markdown",
      "source": [
        "### Проанализировав топ слова из 11 тем LDA, можно сделать вывод что тексты - это отзывы и их можно разделить примерно на 5 тем: **отели, рестораны, больницы, банки и автомобили**. ###"
      ],
      "metadata": {
        "id": "cxzACgBK7s8n"
      }
    },
    {
      "cell_type": "markdown",
      "source": [
        "# Часть  2#"
      ],
      "metadata": {
        "id": "-gU8hUD99na0"
      }
    },
    {
      "cell_type": "code",
      "source": [
        "test_df = pd.read_csv(\"valid.csv\")"
      ],
      "metadata": {
        "id": "89y4-oC7-CUx"
      },
      "execution_count": 10,
      "outputs": []
    },
    {
      "cell_type": "markdown",
      "source": [
        "Разделяем train на обучающую и валидационную выборки"
      ],
      "metadata": {
        "id": "E-1vUF10HYNS"
      }
    },
    {
      "cell_type": "code",
      "source": [
        "test_df['processed_text'] = df['text'].apply(preprocess_text)\n",
        "\n",
        "X_temp = df['processed_text']\n",
        "y_temp = df['sentiment']\n",
        "\n",
        "X_train, X_val, y_train, y_val = train_test_split(\n",
        "    X_temp, y_temp,\n",
        "    test_size=0.2,  # 20% для валидации\n",
        "    random_state=42,\n",
        "    stratify=y_temp  # распределение классов\n",
        ")\n",
        "\n",
        "X_test = test_df['processed_text']\n",
        "y_test = test_df['sentiment']"
      ],
      "metadata": {
        "id": "3F69I6a5G4g0"
      },
      "execution_count": 11,
      "outputs": []
    },
    {
      "cell_type": "code",
      "source": [
        "print(f\"Размер финальной обучающей выборки: {len(X_train)}\")\n",
        "print(f\"Размер валидационной выборки: {len(X_val)}\")\n",
        "print(f\"Размер тестовой выборки: {len(X_test)}\")"
      ],
      "metadata": {
        "colab": {
          "base_uri": "https://localhost:8080/"
        },
        "id": "AmVJ9WdIIRgv",
        "outputId": "a99de2d3-d4d0-436c-a6cb-824f77d2db9a"
      },
      "execution_count": 12,
      "outputs": [
        {
          "output_type": "stream",
          "name": "stdout",
          "text": [
            "Размер финальной обучающей выборки: 151912\n",
            "Размер валидационной выборки: 37979\n",
            "Размер тестовой выборки: 21098\n"
          ]
        }
      ]
    },
    {
      "cell_type": "code",
      "source": [
        "# Проверьте уникальные значения меток\n",
        "print(\"Уникальные значения в y_train:\", np.unique(y_train))\n",
        "print(\"Уникальные значения в y_val:\", np.unique(y_val))\n",
        "print(\"Уникальные значения в y_test:\", np.unique(y_test))\n"
      ],
      "metadata": {
        "colab": {
          "base_uri": "https://localhost:8080/"
        },
        "id": "a4AkqDShavHP",
        "outputId": "50a75541-8b19-45bb-c8a1-6ec7ecd8c24d"
      },
      "execution_count": 13,
      "outputs": [
        {
          "output_type": "stream",
          "name": "stdout",
          "text": [
            "Уникальные значения в y_train: [0 1 2]\n",
            "Уникальные значения в y_val: [0 1 2]\n",
            "Уникальные значения в y_test: [0 1 2]\n"
          ]
        }
      ]
    },
    {
      "cell_type": "markdown",
      "source": [
        "Я решил не брать модели классического мл и сразу взял ruBert"
      ],
      "metadata": {
        "id": "MC6cr9f3QSZM"
      }
    },
    {
      "cell_type": "markdown",
      "source": [
        "Параллельно все-таки решил еще обучить CatBoost, но он выдал плохие метрики. Подозреваю, что это потому что я использовал TF-IDF, а не WordtoVec"
      ],
      "metadata": {
        "id": "onScWhEpRZ-2"
      }
    },
    {
      "cell_type": "code",
      "source": [
        "model_name = \"DeepPavlov/rubert-base-cased\"\n",
        "tokenizer = AutoTokenizer.from_pretrained(model_name)\n",
        "model = AutoModelForSequenceClassification.from_pretrained(model_name, num_labels=3)\n",
        "\n",
        "# Параметры\n",
        "batch_size = 16\n",
        "epochs = 5\n",
        "learning_rate = 2e-5\n",
        "max_length = 128\n",
        "weight_decay = 0.01"
      ],
      "metadata": {
        "id": "LU6b2E8jHWya"
      },
      "execution_count": null,
      "outputs": []
    },
    {
      "cell_type": "markdown",
      "source": [
        "**Параметры** :<br>\n",
        "Размер батча: 16 - норм для скорости обучения и памяти GPU <br>\n",
        "Количество эпох: 5 - достаточно для fine-tuning предобученной модели <br>\n",
        "Learning rate: 2e-5 - стандартное значение для fine-tuning BERT-моделей <br>\n",
        "Max length: 128 - оптимальная длина для коротких текстовых отзывов <br>\n",
        "Weight decay: 0.01 - чтобы не было переобучения"
      ],
      "metadata": {
        "id": "DLzRWlA3QjKT"
      }
    },
    {
      "cell_type": "code",
      "source": [
        "# Подготовка данных для модели\n",
        "def prepare_data(texts, labels, tokenizer, max_length):\n",
        "    encodings = tokenizer(\n",
        "        texts.tolist(),\n",
        "        truncation=True,\n",
        "        padding='max_length',\n",
        "        max_length=max_length,\n",
        "        return_tensors='pt'\n",
        "    )\n",
        "\n",
        "    input_ids = encodings['input_ids']\n",
        "    attention_mask = encodings['attention_mask']\n",
        "    labels = torch.tensor(labels.tolist())\n",
        "\n",
        "    return TensorDataset(input_ids, attention_mask, labels)\n",
        "\n",
        "# Создание DataLoader\n",
        "train_dataset = prepare_data(X_train, y_train, tokenizer, max_length)\n",
        "val_dataset = prepare_data(X_val, y_val, tokenizer, max_length)\n",
        "test_dataset = prepare_data(X_test, y_test, tokenizer, max_length)\n",
        "\n",
        "train_dataloader = DataLoader(train_dataset, batch_size=batch_size, shuffle=True)\n",
        "val_dataloader = DataLoader(val_dataset, batch_size=batch_size)\n",
        "test_dataloader = DataLoader(test_dataset, batch_size=batch_size)"
      ],
      "metadata": {
        "id": "EdUU8abURsML"
      },
      "execution_count": null,
      "outputs": []
    },
    {
      "cell_type": "code",
      "source": [
        "from torch.optim import AdamW\n",
        "from transformers import get_linear_schedule_with_warmup\n",
        "device = torch.device('cuda' if torch.cuda.is_available() else 'cpu')\n",
        "model.to(device)\n",
        "\n",
        "optimizer = AdamW(model.parameters(), lr=learning_rate, weight_decay=weight_decay)\n",
        "\n",
        "# Настройка scheduler для изменения learning rate\n",
        "total_steps = len(train_dataloader) * epochs\n",
        "scheduler = get_linear_schedule_with_warmup(\n",
        "    optimizer,\n",
        "    num_warmup_steps=0,\n",
        "    num_training_steps=total_steps\n",
        ")\n",
        "\n",
        "# Функция для обучения на одной эпохе\n",
        "def train_epoch(model, dataloader, optimizer, scheduler, device):\n",
        "    model.train()\n",
        "    total_loss = 0\n",
        "\n",
        "    for batch in dataloader:\n",
        "        batch = tuple(b.to(device) for b in batch)\n",
        "        inputs = {\n",
        "            'input_ids': batch[0],\n",
        "            'attention_mask': batch[1],\n",
        "            'labels': batch[2]\n",
        "        }\n",
        "\n",
        "        optimizer.zero_grad()\n",
        "        outputs = model(**inputs)\n",
        "        loss = outputs.loss\n",
        "        total_loss += loss.item()\n",
        "\n",
        "        loss.backward()\n",
        "        torch.nn.utils.clip_grad_norm_(model.parameters(), 1.0)\n",
        "        optimizer.step()\n",
        "        scheduler.step()\n",
        "\n",
        "    return total_loss / len(dataloader)\n",
        "\n",
        "# Функция для оценки на валидационной/тестовой выборке\n",
        "def evaluate(model, dataloader, device):\n",
        "    model.eval()\n",
        "    predictions = []\n",
        "    true_labels = []\n",
        "\n",
        "    with torch.no_grad():\n",
        "        for batch in dataloader:\n",
        "            batch = tuple(b.to(device) for b in batch)\n",
        "            inputs = {\n",
        "                'input_ids': batch[0],\n",
        "                'attention_mask': batch[1]\n",
        "            }\n",
        "\n",
        "            outputs = model(**inputs)\n",
        "            logits = outputs.logits\n",
        "\n",
        "            predictions.extend(torch.argmax(logits, dim=1).cpu().numpy())\n",
        "            true_labels.extend(batch[2].cpu().numpy())\n",
        "\n",
        "    return true_labels, predictions\n",
        "\n",
        "# Обучение модели\n",
        "best_val_f1 = 0\n",
        "best_model_state = None\n",
        "\n",
        "for epoch in range(epochs):\n",
        "    print(f\"Эпоха {epoch + 1}/{epochs}\")\n",
        "\n",
        "\n",
        "    train_loss = train_epoch(model, train_dataloader, optimizer, scheduler, device)\n",
        "    print(f\"Среднее значение потерь: {train_loss:.4f}\")\n",
        "\n",
        "    # Оценка на валидационной выборке\n",
        "    true_labels, predictions = evaluate(model, val_dataloader, device)\n",
        "    accuracy = accuracy_score(true_labels, predictions)\n",
        "    precision, recall, f1, _ = precision_recall_fscore_support(true_labels, predictions, average='weighted')\n",
        "\n",
        "    print(f\"Validation - Accuracy: {accuracy:.4f}, Precision: {precision:.4f}, Recall: {recall:.4f}, F1: {f1:.4f}\")\n",
        "\n",
        "    # Сохранение лучшей модели по F1\n",
        "    if f1 > best_val_f1:\n",
        "        best_val_f1 = f1\n",
        "        best_model_state = model.state_dict().copy()\n",
        "        print(\"Сохранена новая лучшая модель!\")\n",
        "\n",
        "# Загрузка лучшей модели\n",
        "model.load_state_dict(best_model_state)"
      ],
      "metadata": {
        "colab": {
          "base_uri": "https://localhost:8080/",
          "height": 564
        },
        "id": "R75ALQ0HSWQ7",
        "outputId": "27460120-b496-4047-93f9-9d2457fd99fc"
      },
      "execution_count": 16,
      "outputs": [
        {
          "output_type": "stream",
          "name": "stdout",
          "text": [
            "Эпоха 1/5\n",
            "Среднее значение потерь: 0.5332\n",
            "Validation - Accuracy: 0.7861, Precision: 0.7895, Recall: 0.7861, F1: 0.7868\n",
            "Сохранена новая лучшая модель!\n",
            "Эпоха 2/5\n",
            "Среднее значение потерь: 0.4040\n",
            "Validation - Accuracy: 0.7976, Precision: 0.8002, Recall: 0.7976, F1: 0.7984\n",
            "Сохранена новая лучшая модель!\n",
            "Эпоха 3/5\n",
            "Среднее значение потерь: 0.3089\n",
            "Validation - Accuracy: 0.7929, Precision: 0.7963, Recall: 0.7929, F1: 0.7942\n",
            "Эпоха 4/5\n"
          ]
        },
        {
          "output_type": "error",
          "ename": "KeyboardInterrupt",
          "evalue": "",
          "traceback": [
            "\u001b[0;31m---------------------------------------------------------------------------\u001b[0m",
            "\u001b[0;31mKeyboardInterrupt\u001b[0m                         Traceback (most recent call last)",
            "\u001b[0;32m<ipython-input-16-4939e277b8f0>\u001b[0m in \u001b[0;36m<cell line: 0>\u001b[0;34m()\u001b[0m\n\u001b[1;32m     69\u001b[0m \u001b[0;34m\u001b[0m\u001b[0m\n\u001b[1;32m     70\u001b[0m     \u001b[0;31m# Обучение\u001b[0m\u001b[0;34m\u001b[0m\u001b[0;34m\u001b[0m\u001b[0m\n\u001b[0;32m---> 71\u001b[0;31m     \u001b[0mtrain_loss\u001b[0m \u001b[0;34m=\u001b[0m \u001b[0mtrain_epoch\u001b[0m\u001b[0;34m(\u001b[0m\u001b[0mmodel\u001b[0m\u001b[0;34m,\u001b[0m \u001b[0mtrain_dataloader\u001b[0m\u001b[0;34m,\u001b[0m \u001b[0moptimizer\u001b[0m\u001b[0;34m,\u001b[0m \u001b[0mscheduler\u001b[0m\u001b[0;34m,\u001b[0m \u001b[0mdevice\u001b[0m\u001b[0;34m)\u001b[0m\u001b[0;34m\u001b[0m\u001b[0;34m\u001b[0m\u001b[0m\n\u001b[0m\u001b[1;32m     72\u001b[0m     \u001b[0mprint\u001b[0m\u001b[0;34m(\u001b[0m\u001b[0;34mf\"Среднее значение потерь: {train_loss:.4f}\"\u001b[0m\u001b[0;34m)\u001b[0m\u001b[0;34m\u001b[0m\u001b[0;34m\u001b[0m\u001b[0m\n\u001b[1;32m     73\u001b[0m \u001b[0;34m\u001b[0m\u001b[0m\n",
            "\u001b[0;32m<ipython-input-16-4939e277b8f0>\u001b[0m in \u001b[0;36mtrain_epoch\u001b[0;34m(model, dataloader, optimizer, scheduler, device)\u001b[0m\n\u001b[1;32m     20\u001b[0m \u001b[0;34m\u001b[0m\u001b[0m\n\u001b[1;32m     21\u001b[0m     \u001b[0;32mfor\u001b[0m \u001b[0mbatch\u001b[0m \u001b[0;32min\u001b[0m \u001b[0mdataloader\u001b[0m\u001b[0;34m:\u001b[0m\u001b[0;34m\u001b[0m\u001b[0;34m\u001b[0m\u001b[0m\n\u001b[0;32m---> 22\u001b[0;31m         \u001b[0mbatch\u001b[0m \u001b[0;34m=\u001b[0m \u001b[0mtuple\u001b[0m\u001b[0;34m(\u001b[0m\u001b[0mb\u001b[0m\u001b[0;34m.\u001b[0m\u001b[0mto\u001b[0m\u001b[0;34m(\u001b[0m\u001b[0mdevice\u001b[0m\u001b[0;34m)\u001b[0m \u001b[0;32mfor\u001b[0m \u001b[0mb\u001b[0m \u001b[0;32min\u001b[0m \u001b[0mbatch\u001b[0m\u001b[0;34m)\u001b[0m\u001b[0;34m\u001b[0m\u001b[0;34m\u001b[0m\u001b[0m\n\u001b[0m\u001b[1;32m     23\u001b[0m         inputs = {\n\u001b[1;32m     24\u001b[0m             \u001b[0;34m'input_ids'\u001b[0m\u001b[0;34m:\u001b[0m \u001b[0mbatch\u001b[0m\u001b[0;34m[\u001b[0m\u001b[0;36m0\u001b[0m\u001b[0;34m]\u001b[0m\u001b[0;34m,\u001b[0m\u001b[0;34m\u001b[0m\u001b[0;34m\u001b[0m\u001b[0m\n",
            "\u001b[0;32m<ipython-input-16-4939e277b8f0>\u001b[0m in \u001b[0;36m<genexpr>\u001b[0;34m(.0)\u001b[0m\n\u001b[1;32m     20\u001b[0m \u001b[0;34m\u001b[0m\u001b[0m\n\u001b[1;32m     21\u001b[0m     \u001b[0;32mfor\u001b[0m \u001b[0mbatch\u001b[0m \u001b[0;32min\u001b[0m \u001b[0mdataloader\u001b[0m\u001b[0;34m:\u001b[0m\u001b[0;34m\u001b[0m\u001b[0;34m\u001b[0m\u001b[0m\n\u001b[0;32m---> 22\u001b[0;31m         \u001b[0mbatch\u001b[0m \u001b[0;34m=\u001b[0m \u001b[0mtuple\u001b[0m\u001b[0;34m(\u001b[0m\u001b[0mb\u001b[0m\u001b[0;34m.\u001b[0m\u001b[0mto\u001b[0m\u001b[0;34m(\u001b[0m\u001b[0mdevice\u001b[0m\u001b[0;34m)\u001b[0m \u001b[0;32mfor\u001b[0m \u001b[0mb\u001b[0m \u001b[0;32min\u001b[0m \u001b[0mbatch\u001b[0m\u001b[0;34m)\u001b[0m\u001b[0;34m\u001b[0m\u001b[0;34m\u001b[0m\u001b[0m\n\u001b[0m\u001b[1;32m     23\u001b[0m         inputs = {\n\u001b[1;32m     24\u001b[0m             \u001b[0;34m'input_ids'\u001b[0m\u001b[0;34m:\u001b[0m \u001b[0mbatch\u001b[0m\u001b[0;34m[\u001b[0m\u001b[0;36m0\u001b[0m\u001b[0;34m]\u001b[0m\u001b[0;34m,\u001b[0m\u001b[0;34m\u001b[0m\u001b[0;34m\u001b[0m\u001b[0m\n",
            "\u001b[0;31mKeyboardInterrupt\u001b[0m: "
          ]
        }
      ]
    },
    {
      "cell_type": "markdown",
      "source": [
        "Пришлось остановить модель после трех эпох, т.к уже не было времени, но не смотря на это, модель уже после первой эпохи показала хорошие метрики"
      ],
      "metadata": {
        "id": "MQcp83F_TBEf"
      }
    }
  ]
}